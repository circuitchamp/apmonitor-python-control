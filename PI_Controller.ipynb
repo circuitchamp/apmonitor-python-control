{
  "nbformat": 4,
  "nbformat_minor": 0,
  "metadata": {
    "colab": {
      "provenance": [],
      "collapsed_sections": [],
      "authorship_tag": "ABX9TyPUqefd7LQVG6xN/qR4mKca",
      "include_colab_link": true
    },
    "kernelspec": {
      "name": "python3",
      "display_name": "Python 3"
    },
    "language_info": {
      "name": "python"
    }
  },
  "cells": [
    {
      "cell_type": "markdown",
      "metadata": {
        "id": "view-in-github",
        "colab_type": "text"
      },
      "source": [
        "<a href=\"https://colab.research.google.com/github/systemsxcontrol/apmonitor-python-control/blob/main/PI_Controller.ipynb\" target=\"_parent\"><img src=\"https://colab.research.google.com/assets/colab-badge.svg\" alt=\"Open In Colab\"/></a>"
      ]
    },
    {
      "cell_type": "code",
      "execution_count": null,
      "metadata": {
        "id": "_nI-7gkb4MzE"
      },
      "outputs": [],
      "source": [
        "import numpy as np\n",
        "import matplotlib.pyplot as plt\n",
        "from scipy.integrate import odeint"
      ]
    },
    {
      "cell_type": "code",
      "source": [],
      "metadata": {
        "id": "VEpDVZMQ_je4"
      },
      "execution_count": null,
      "outputs": []
    },
    {
      "cell_type": "code",
      "source": [
        "# specify number of steps\n",
        "ns = 1200\n",
        "# define time points\n",
        "t = np.linspace(0, ns, ns+1)\n",
        "\n",
        "# mode (manual=0, automatic=1)\n",
        "mode = 1\n",
        "\n",
        "class Model():\n",
        "  # process model\n",
        "  kp     = 2.0\n",
        "  taup   = 200.0\n",
        "  thetap = 0.0\n",
        "\n",
        "class PID():\n",
        "  kc   = 2.0\n",
        "  tauI = 10.0\n",
        "  tauD = 0.0\n",
        "  sp   = []\n",
        "\n",
        "# Define set point\n",
        "sp = np.zeros(ns+1)\n",
        "sp[50:600] = 10\n",
        "sp[600:] = 0\n",
        "PID.sp = sp\n",
        "\n",
        "def process(y,t,u,kp,taup):\n",
        "  # kp = process gain\n",
        "  # taup = process time constant\n",
        "  dydt = -y/taup + kp/taup * u\n",
        "  return dydt\n",
        "\n",
        "def calc_response(t,mode,xm,xc):\n",
        "  # t = time points\n",
        "  # mode (manual=0, automatic=1)\n",
        "\n",
        "  # process model\n",
        "  kp     = xm.kp\n",
        "  taup   = xm.taup\n",
        "  thetap = xm.thetap\n",
        "\n",
        "  # PID tuning\n",
        "  kc   = xc.kc\n",
        "  tauI = xc.tauI\n",
        "  tauD = xc.tauD\n",
        "  sp   = xc.sp # set point\n",
        "\n",
        "  # specify the number of steps\n",
        "  ns = len(t)-1\n",
        "  \n",
        "  delta_t = t[1]-t[0]\n",
        "\n",
        "  # storage for recording values\n",
        "  op  = np.zeros(ns+1) # controller output\n",
        "  pv  = np.zeros(ns+1) # process variable\n",
        "  e   = np.zeros(ns+1) # error\n",
        "  ie  = np.zeros(ns+1) # integral of the error\n",
        "  dpv = np.zeros(ns+1) # derivative of the pv\n",
        "  P   = np.zeros(ns+1) # proportional\n",
        "  I   = np.zeros(ns+1) # integral\n",
        "  D   = np.zeros(ns+1) # derivative\n",
        "\n",
        "  # step input for manual control\n",
        "  if mode==0:\n",
        "    op[100:] = 2\n",
        "\n",
        "  # upper and lower limits on OP\n",
        "  op_hi = 100.0\n",
        "  op_lo = 0.0\n",
        "\n",
        "  # simulate time delay\n",
        "  ndelay = int(np.ceil(thetap/delta_t))\n",
        "\n",
        "  # loop through time steps\n",
        "  \n",
        "\n"
      ],
      "metadata": {
        "id": "qZ3T9JbP5z2W"
      },
      "execution_count": null,
      "outputs": []
    }
  ]
}